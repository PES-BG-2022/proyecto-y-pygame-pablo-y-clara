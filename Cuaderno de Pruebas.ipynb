{
 "cells": [
  {
   "cell_type": "markdown",
   "metadata": {},
   "source": [
    "### Importaciones"
   ]
  },
  {
   "cell_type": "code",
   "execution_count": null,
   "metadata": {},
   "outputs": [],
   "source": [
    "\n",
    "import pygame #acceder al comando de pygame\n",
    "\n",
    "pygame.init() #inicializa los módulos de pygame"
   ]
  },
  {
   "cell_type": "markdown",
   "metadata": {},
   "source": [
    "### Definiciones Básicas"
   ]
  },
  {
   "cell_type": "code",
   "execution_count": null,
   "metadata": {},
   "outputs": [],
   "source": [
    "ANCHO  = 800\n",
    "ALTO = 600\n",
    "color_rojo=(255,0,0)\n",
    "color_negro=(0,0,0)\n",
    "color_azul = (0,255,0)\n",
    "color_blanco = (130,130,130)\n",
    "ancho_juga = 15\n",
    "alto_juga = 90"
   ]
  },
  {
   "cell_type": "markdown",
   "metadata": {},
   "source": [
    "### Consola del juego"
   ]
  },
  {
   "cell_type": "code",
   "execution_count": null,
   "metadata": {},
   "outputs": [],
   "source": [
    "consola = pygame.display.set_mode((ANCHO,ALTO)) #consola que proyecta el juego\n",
    "reloj = pygame.time.Clock()"
   ]
  },
  {
   "cell_type": "markdown",
   "metadata": {},
   "source": [
    "### Personajes principales: coordenadas y velocidad"
   ]
  },
  {
   "cell_type": "code",
   "execution_count": null,
   "metadata": {},
   "outputs": [],
   "source": [
    "juga1_x = 50\n",
    "juga1_y = 300 - (alto_juga/2)\n",
    "juga1_vel = 0\n",
    "juga2_x = 750 - ancho_juga\n",
    "juga2_y = 300 - (alto_juga/2)\n",
    "juga2_vel = 0\n",
    "pel_x = 400\n",
    "pel_y = 300\n",
    "pel_x_vel = 3\n",
    "pel_y_vel = 3"
   ]
  },
  {
   "cell_type": "markdown",
   "metadata": {},
   "source": [
    "### Dibujo de los personajes principales"
   ]
  },
  {
   "cell_type": "code",
   "execution_count": null,
   "metadata": {},
   "outputs": [],
   "source": [
    "juga1 = pygame.draw.rect(consola, color_azul, (juga1_x,juga1_y,ancho_juga, alto_juga )) #dibujo paleta izquierda\n",
    "juga2 = pygame.draw.rect(consola, color_azul, (juga2_x,juga1_y,ancho_juga, alto_juga )) #dibujo paleta izquierda\n",
    "pel = pygame.draw.circle(consola, color_rojo, (pel_x, pel_y), 10)"
   ]
  },
  {
   "cell_type": "markdown",
   "metadata": {},
   "source": [
    "### Tiempo en el cual se agregan los personajes."
   ]
  },
  {
   "cell_type": "code",
   "execution_count": null,
   "metadata": {},
   "outputs": [],
   "source": [
    "clock = pygame.time.Clock()\n",
    "clock.tick(50)\n",
    "# Temporizador de velocidad que ayuda a cambiar la dificultad. "
   ]
  },
  {
   "cell_type": "markdown",
   "metadata": {},
   "source": [
    "### Eventos del juego"
   ]
  },
  {
   "cell_type": "code",
   "execution_count": null,
   "metadata": {},
   "outputs": [],
   "source": [
    "#abajo = keydown, izq = k_left, der = k_right, arriba = k_up. todo en mayúsculas\n"
   ]
  },
  {
   "cell_type": "markdown",
   "metadata": {},
   "source": [
    "### Movimientos de los jugadores y de la pelota"
   ]
  },
  {
   "cell_type": "code",
   "execution_count": null,
   "metadata": {},
   "outputs": [],
   "source": []
  },
  {
   "cell_type": "markdown",
   "metadata": {},
   "source": [
    "### Fondo de la consola"
   ]
  },
  {
   "cell_type": "code",
   "execution_count": null,
   "metadata": {},
   "outputs": [],
   "source": [
    "consola.fill(color_negro)"
   ]
  },
  {
   "cell_type": "markdown",
   "metadata": {},
   "source": [
    "### Rectangulo con Mensaje de Game Over."
   ]
  },
  {
   "cell_type": "code",
   "execution_count": null,
   "metadata": {},
   "outputs": [],
   "source": [
    "\tif game_over:\n",
    "\t\t\ttexto = fuente.render(\"FIN DEL JUEGO\", True, color_texto)\n",
    "\t\t\ttexto_rect = texto.get_rect()\n",
    "\t\t\ttexto_x = consola.get_width()/2 - texto_rect.width / 2\n",
    "\t\t\ttexto_y = consola.get_height()/2 - texto_rect.height / 2\n",
    "\t\t\tconsola.blit(texto, [texto_x, texto_y])\n",
    "\t\telse:\n",
    "\t\t\ttexto = fuente.render(\"Haz click para terminar el juego\", True, color_texto)\n",
    "\t\t\ttexto_rect = texto.get_rect()\n",
    "\t\t\ttexto_x = consola.get_width() / 2 - texto_rect.width / 2\n",
    "\t\t\ttexto_y = consola.get_height() / 2 - texto_rect.height / 2\n",
    "\t\t\tconsola.blit(texto, [texto_x, texto_y])\n"
   ]
  },
  {
   "cell_type": "markdown",
   "metadata": {},
   "source": [
    "\n",
    "\n",
    "\n",
    "\n",
    "\n",
    "\n",
    "\n",
    "\n",
    "### Salir del Juego"
   ]
  },
  {
   "cell_type": "code",
   "execution_count": null,
   "metadata": {},
   "outputs": [],
   "source": [
    "pygame.quit()"
   ]
  }
 ],
 "metadata": {
  "interpreter": {
   "hash": "137cd3aed463022d7bcbd3a7e725a25bef89e2cb586e507579494bd23d4f92cb"
  },
  "kernelspec": {
   "display_name": "Python 3.9.7 64-bit ('base': conda)",
   "language": "python",
   "name": "python3"
  },
  "language_info": {
   "name": "python",
   "version": "3.9.7"
  },
  "orig_nbformat": 4
 },
 "nbformat": 4,
 "nbformat_minor": 2
}
