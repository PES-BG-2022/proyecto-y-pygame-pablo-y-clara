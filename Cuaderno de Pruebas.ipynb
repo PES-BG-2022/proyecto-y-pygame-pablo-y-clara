{
 "cells": [
  {
   "cell_type": "markdown",
   "metadata": {},
   "source": [
    "### Importaciones"
   ]
  },
  {
   "cell_type": "code",
   "execution_count": null,
   "metadata": {},
   "outputs": [],
   "source": [
    "\n",
    "import pygame #acceder al comando de pygame\n",
    "import random\n",
    "import sys"
   ]
  },
  {
   "cell_type": "markdown",
   "metadata": {},
   "source": [
    "### Consola del juego"
   ]
  },
  {
   "cell_type": "code",
   "execution_count": null,
   "metadata": {},
   "outputs": [],
   "source": [
    "consola = pygame.display.set_mode((ANCHO,ALTO)) #consola que proyecta el juego\n",
    "pygame.display.set_caption(\"Fin del juego\")     #agregar texto final del juego"
   ]
  },
  {
   "cell_type": "markdown",
   "metadata": {},
   "source": [
    "### Definiciones Basicas"
   ]
  },
  {
   "cell_type": "code",
   "execution_count": null,
   "metadata": {},
   "outputs": [],
   "source": [
    "pygame.init() #inicializa los módulos de pygame\n",
    "#Definiciones\n",
    "ANCHO  = 800\n",
    "ALTO = 600\n",
    "color_rojo=(255,0,0)\n",
    "color_negro=(0,0,0)\n",
    "color_azul = (0,255,0)\n",
    "color_texto = (130,130,130)"
   ]
  },
  {
   "cell_type": "markdown",
   "metadata": {},
   "source": [
    "### Personajes principales: jugador y enemigo (dimensiones)"
   ]
  },
  {
   "cell_type": "code",
   "execution_count": null,
   "metadata": {},
   "outputs": [],
   "source": [
    "pos_juga = [400,400] #lista de valores de x,y del jugador. la x se representa por [0] y la \"y\" por [1]\n",
    "tam_juga = 50 #es el tamaño de cada jugador\n",
    "centrar_juga = [ANCHO/2, ALTO - tam_juga * 2]\n",
    "\n",
    "pos_enemigo = [0,300] #para que salgan desde arriba y centrados de la pantalla\n",
    "tam_enemigo = 50 #es el tamaño del enemigo"
   ]
  },
  {
   "cell_type": "markdown",
   "metadata": {},
   "source": [
    "### Dibujo de los personajes principales"
   ]
  },
  {
   "cell_type": "code",
   "execution_count": null,
   "metadata": {},
   "outputs": [],
   "source": [
    "pygame.draw.rect(consola, color_azul, (pos_enemigo[0],pos_enemigo[1], tam_enemigo, tam_enemigo)) #dibujo de enemigos\n",
    "pygame.draw.rect(consola, color_rojo, (pos_juga[0],pos_juga[1], tam_juga,tam_juga)) #dibujo de jugador"
   ]
  },
  {
   "cell_type": "markdown",
   "metadata": {},
   "source": [
    "### Tiempo en el cual se agregan los personajes."
   ]
  },
  {
   "cell_type": "code",
   "execution_count": null,
   "metadata": {},
   "outputs": [],
   "source": [
    "clock = pygame.time.Clock()\n",
    "clock.tick(50)\n",
    "# Temporizador de velocidad que ayuda a cambiar la dificultad. "
   ]
  },
  {
   "cell_type": "markdown",
   "metadata": {},
   "source": [
    "### Funciones que ayudan a detectar colisiones entre los objetos"
   ]
  },
  {
   "cell_type": "code",
   "execution_count": null,
   "metadata": {},
   "outputs": [],
   "source": [
    "def detectar_colision(pos_juga,pos_enemigo):\n",
    "\tjx = pos_juga[0]\n",
    "\tjy = pos_juga[1]\n",
    "\tex = pos_enemigo[0]\n",
    "\tey = pos_enemigo[1]\n",
    "# posicion del enemigo en relacion con el jugador.\n",
    "\tif (ex >= jx and ex <(jx + tam_juga)) or (jx >= ex and jx < (ex + tam_enemigo)):\n",
    "\t\tif (ey >= jy and ey <(jy + tam_juga)) or (jy >= ey and jy < (ey + tam_enemigo)):\n",
    "\t\t\treturn True\n",
    "\t\treturn False"
   ]
  }
 ],
 "metadata": {
  "interpreter": {
   "hash": "137cd3aed463022d7bcbd3a7e725a25bef89e2cb586e507579494bd23d4f92cb"
  },
  "kernelspec": {
   "display_name": "Python 3.9.7 64-bit ('base': conda)",
   "language": "python",
   "name": "python3"
  },
  "language_info": {
   "name": "python",
   "version": "3.9.7"
  },
  "orig_nbformat": 4
 },
 "nbformat": 4,
 "nbformat_minor": 2
}
