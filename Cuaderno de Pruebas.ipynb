{
 "cells": [
  {
   "cell_type": "markdown",
   "metadata": {},
   "source": [
    "### Importaciones"
   ]
  },
  {
   "cell_type": "code",
   "execution_count": null,
   "metadata": {},
   "outputs": [],
   "source": [
    "\n",
    "import pygame #acceder al comando de pygame\n",
    "import random\n",
    "import sys"
   ]
  },
  {
   "cell_type": "markdown",
   "metadata": {},
   "source": [
    "### Consola del juego"
   ]
  },
  {
   "cell_type": "code",
   "execution_count": null,
   "metadata": {},
   "outputs": [],
   "source": [
    "consola = pygame.display.set_mode((ANCHO,ALTO)) #consola que proyecta el juego\n",
    "pygame.display.set_caption(\"Fin del juego\")     #agregar texto final del juego"
   ]
  },
  {
   "cell_type": "markdown",
   "metadata": {},
   "source": [
    "### Definiciones Basicas"
   ]
  },
  {
   "cell_type": "code",
   "execution_count": null,
   "metadata": {},
   "outputs": [],
   "source": [
    "pygame.init() #inicializa los módulos de pygame\n",
    "#Definiciones\n",
    "ANCHO  = 800\n",
    "ALTO = 600\n",
    "color_rojo=(255,0,0)\n",
    "color_negro=(0,0,0)\n",
    "color_azul = (0,255,0)\n",
    "color_texto = (130,130,130)"
   ]
  },
  {
   "cell_type": "markdown",
   "metadata": {},
   "source": [
    "### Personajes principales: jugador y enemigo (dimensiones)"
   ]
  },
  {
   "cell_type": "code",
   "execution_count": null,
   "metadata": {},
   "outputs": [],
   "source": [
    "pos_juga = [400,400] #lista de valores de x,y del jugador. la x se representa por [0] y la \"y\" por [1]\n",
    "tam_juga = 50 #es el tamaño de cada jugador\n",
    "centrar_juga = [ANCHO/2, ALTO - tam_juga * 2]\n",
    "\n",
    "pos_enemigo = [0,300] #para que salgan desde arriba y centrados de la pantalla\n",
    "tam_enemigo = 50 #es el tamaño del enemigo"
   ]
  },
  {
   "cell_type": "markdown",
   "metadata": {},
   "source": [
    "### Dibujo de los personajes principales"
   ]
  },
  {
   "cell_type": "code",
   "execution_count": null,
   "metadata": {},
   "outputs": [],
   "source": [
    "pygame.draw.rect(consola, color_azul, (pos_enemigo[0],pos_enemigo[1], tam_enemigo, tam_enemigo)) #dibujo de enemigos\n",
    "pygame.draw.rect(consola, color_rojo, (pos_juga[0],pos_juga[1], tam_juga,tam_juga)) #dibujo de jugador"
   ]
  },
  {
   "cell_type": "markdown",
   "metadata": {},
   "source": [
    "### Tiempo en el cual se agregan los personajes."
   ]
  },
  {
   "cell_type": "code",
   "execution_count": null,
   "metadata": {},
   "outputs": [],
   "source": [
    "clock = pygame.time.Clock()\n",
    "clock.tick(50)\n",
    "# Temporizador de velocidad que ayuda a cambiar la dificultad. "
   ]
  },
  {
   "cell_type": "markdown",
   "metadata": {},
   "source": [
    "### Funciones que ayudan a detectar colisiones entre los objetos"
   ]
  },
  {
   "cell_type": "code",
   "execution_count": null,
   "metadata": {},
   "outputs": [],
   "source": [
    "def detectar_colision(pos_juga,pos_enemigo):\n",
    "\tjx = pos_juga[0]\n",
    "\tjy = pos_juga[1]\n",
    "\tex = pos_enemigo[0]\n",
    "\tey = pos_enemigo[1]\n",
    "# posicion del enemigo en relacion con el jugador.\n",
    "\tif (ex >= jx and ex <(jx + tam_juga)) or (jx >= ex and jx < (ex + tam_enemigo)):\n",
    "\t\tif (ey >= jy and ey <(jy + tam_juga)) or (jy >= ey and jy < (ey + tam_enemigo)):\n",
    "\t\t\treturn True\n",
    "\t\treturn False"
   ]
  },
  {
   "cell_type": "markdown",
   "metadata": {},
   "source": [
    "### Eventos del juego"
   ]
  },
  {
   "cell_type": "code",
   "execution_count": null,
   "metadata": {},
   "outputs": [],
   "source": [
    "#abajo = keydown, izq = k_left, der = k_right, arriba = k_up. todo en mayúsculas\n",
    "while not game_over:\n",
    "\tfor event in pygame.event.get():\n",
    "\t\tif event.type == pygame.QUIT:\n",
    "\t\t\tsys.exit\n",
    "\n",
    "\t\tif event.type == pygame.KEYDOWN:\n",
    "\t\t\tx = pos_juga[0]\n",
    "\t\t\tif event.key == pygame.K_LEFT:\n",
    "\t\t\t\tx -= tam_enemigo\n",
    "\t\t\tif event.key == pygame.K_RIGHT:\n",
    "\t\t\t\tx += tam_enemigo\n",
    "\n",
    "            pos_juga[0] = x\n",
    "    \n",
    "    if pos_enemigo[1] >= 0 and pos_enemigo[1] < ALTO:\n",
    "        pos_enemigo[1] += 20\n",
    "    else:\n",
    "        pos_enemigo[0] = random.randint(0,ANCHO - tam_enemigo)\n",
    "        pos_enemigo[1] = 0\n",
    "    #Colisiones\n",
    "\tif detectar_colision(pos_juga,pos_enemigo):\n",
    "\t\tgame_over = True"
   ]
  },
  {
   "cell_type": "markdown",
   "metadata": {},
   "source": [
    "### Fondo de la consola"
   ]
  },
  {
   "cell_type": "code",
   "execution_count": null,
   "metadata": {},
   "outputs": [],
   "source": [
    "consola.fill(color_negro)"
   ]
  },
  {
   "cell_type": "markdown",
   "metadata": {},
   "source": [
    "### Rectangulo con Mensaje de Game Over."
   ]
  },
  {
   "cell_type": "code",
   "execution_count": null,
   "metadata": {},
   "outputs": [],
   "source": [
    "\tif game_over:\n",
    "\t\t\ttexto = fuente.render(\"FIN DEL JUEGO\", True, color_texto)\n",
    "\t\t\ttexto_rect = texto.get_rect()\n",
    "\t\t\ttexto_x = consola.get_width()/2 - texto_rect.width / 2\n",
    "\t\t\ttexto_y = consola.get_height()/2 - texto_rect.height / 2\n",
    "\t\t\tconsola.blit(texto, [texto_x, texto_y])\n",
    "\t\telse:\n",
    "\t\t\ttexto = fuente.render(\"Haz click para terminar el juego\", True, color_texto)\n",
    "\t\t\ttexto_rect = texto.get_rect()\n",
    "\t\t\ttexto_x = consola.get_width() / 2 - texto_rect.width / 2\n",
    "\t\t\ttexto_y = consola.get_height() / 2 - texto_rect.height / 2\n",
    "\t\t\tconsola.blit(texto, [texto_x, texto_y])\n"
   ]
  },
  {
   "cell_type": "markdown",
   "metadata": {},
   "source": [
    "### Enemigo"
   ]
  },
  {
   "cell_type": "code",
   "execution_count": null,
   "metadata": {},
   "outputs": [],
   "source": [
    "#Dibujar enemigo\n",
    "\tpygame.draw.rect(consola, color_azul,\n",
    "\t\t\t(pos_enemigo[0],pos_enemigo[1],\n",
    "\t\t\ttam_enemigo, tam_enemigo))"
   ]
  },
  {
   "cell_type": "markdown",
   "metadata": {},
   "source": [
    "\n",
    "### Jugador"
   ]
  },
  {
   "cell_type": "code",
   "execution_count": null,
   "metadata": {},
   "outputs": [],
   "source": [
    "#Dibujar jugador\n",
    "\tpygame.draw.rect(consola, color_rojo,\n",
    "\t\t\t(pos_juga[0],pos_juga[1],\n",
    "\t\t\ttam_juga,tam_juga))"
   ]
  },
  {
   "cell_type": "markdown",
   "metadata": {},
   "source": [
    "\n",
    "\n",
    "\n",
    "\n",
    "\n",
    "\n",
    "\n",
    "\n",
    "### Salir del Juego"
   ]
  },
  {
   "cell_type": "code",
   "execution_count": null,
   "metadata": {},
   "outputs": [],
   "source": [
    "pygame.quit()"
   ]
  }
 ],
 "metadata": {
  "interpreter": {
   "hash": "137cd3aed463022d7bcbd3a7e725a25bef89e2cb586e507579494bd23d4f92cb"
  },
  "kernelspec": {
   "display_name": "Python 3.9.7 64-bit ('base': conda)",
   "language": "python",
   "name": "python3"
  },
  "language_info": {
   "name": "python",
   "version": "3.9.7"
  },
  "orig_nbformat": 4
 },
 "nbformat": 4,
 "nbformat_minor": 2
}
