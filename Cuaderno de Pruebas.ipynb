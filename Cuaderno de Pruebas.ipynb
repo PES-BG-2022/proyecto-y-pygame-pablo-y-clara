{
 "cells": [
  {
   "cell_type": "markdown",
   "metadata": {},
   "source": [
    "### Importaciones"
   ]
  },
  {
   "cell_type": "code",
   "execution_count": null,
   "metadata": {},
   "outputs": [],
   "source": [
    "\n",
    "import pygame #acceder al comando de pygame\n",
    "import random\n",
    "import sys"
   ]
  },
  {
   "cell_type": "markdown",
   "metadata": {},
   "source": [
    "### Definiciones Basicas"
   ]
  },
  {
   "cell_type": "code",
   "execution_count": null,
   "metadata": {},
   "outputs": [],
   "source": [
    "pygame.init() #inicializa los módulos de pygame\n",
    "#Definiciones\n",
    "ANCHO  = 800\n",
    "ALTO = 600\n",
    "color_rojo=(255,0,0)\n",
    "color_negro=(0,0,0)\n",
    "color_azul = (0,255,0)\n",
    "color_texto = (130,130,130)"
   ]
  }
 ],
 "metadata": {
  "interpreter": {
   "hash": "137cd3aed463022d7bcbd3a7e725a25bef89e2cb586e507579494bd23d4f92cb"
  },
  "kernelspec": {
   "display_name": "Python 3.9.7 64-bit ('base': conda)",
   "language": "python",
   "name": "python3"
  },
  "language_info": {
   "name": "python",
   "version": "3.9.7"
  },
  "orig_nbformat": 4
 },
 "nbformat": 4,
 "nbformat_minor": 2
}
